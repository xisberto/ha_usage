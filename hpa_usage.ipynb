{
 "cells": [
  {
   "cell_type": "markdown",
   "metadata": {},
   "source": [
    "# HPA Usage\n",
    "Pesquisa por código no Github, buscando por arquivos que contenham definições de HPA (HorizontalPodAutoscaler).\n",
    "\n",
    "Filtra por repositórios com alguma relevância (número de estrelas) e apresenta estatísticas.\n",
    "\n",
    "Os arquivos encontrados após o filtro são salvos no diretório `search_results`."
   ]
  },
  {
   "cell_type": "markdown",
   "metadata": {},
   "source": [
    "## Preparando o ambiente"
   ]
  },
  {
   "cell_type": "code",
   "execution_count": 129,
   "metadata": {},
   "outputs": [],
   "source": [
    "import os\n",
    "import time\n",
    "import re\n",
    "import json\n",
    "import requests\n",
    "import yaml\n",
    "from dotenv import dotenv_values\n",
    "from ghapi.core import GhApi, HTTP422UnprocessableEntityError\n",
    "import numpy as np\n",
    "import pandas as pd\n",
    "from matplotlib import  pyplot as plt"
   ]
  },
  {
   "cell_type": "code",
   "execution_count": 2,
   "metadata": {},
   "outputs": [],
   "source": [
    "config = {\n",
    "  **os.environ,\n",
    "  **dotenv_values(\".env\")\n",
    "}\n",
    "github = GhApi(token=config['GITHUB_TOKEN'])"
   ]
  },
  {
   "cell_type": "code",
   "execution_count": 3,
   "metadata": {},
   "outputs": [
    {
     "data": {
      "text/markdown": [
       "```json\n",
       "{'limit': 5000, 'remaining': 5000, 'reset': 1732450661, 'used': 0}\n",
       "```"
      ],
      "text/plain": [
       "{'limit': 5000, 'used': 0, 'remaining': 5000, 'reset': 1732450661}"
      ]
     },
     "execution_count": 3,
     "metadata": {},
     "output_type": "execute_result"
    }
   ],
   "source": [
    "github.rate_limit.get()['resources']['core']"
   ]
  },
  {
   "cell_type": "markdown",
   "metadata": {},
   "source": [
    "## Definindo Funções Principais"
   ]
  },
  {
   "cell_type": "code",
   "execution_count": 86,
   "metadata": {},
   "outputs": [],
   "source": [
    "def get_repo_stars(item):\n",
    "  name_parts = re.split(r'/', item['repo_name'])\n",
    "  repo_details = github.repos.get(owner=name_parts[0], repo=name_parts[1])\n",
    "  return repo_details['stargazers_count']\n",
    "\n",
    "\n",
    "def extract_hpa(yaml_content):\n",
    "  hpa_list = []\n",
    "  for doc in yaml_content:\n",
    "    if isinstance(doc, dict) and doc.get('kind') == \"HorizontalPodAutoscaler\":\n",
    "      hpa_list.append(doc)\n",
    "  return hpa_list\n",
    "\n",
    "\n",
    "def download_hpa_spec(item):\n",
    "  if not os.path.isdir('search_results'):\n",
    "    os.mkdir('search_results')\n",
    "\n",
    "  print(f\"Downloading {item['url']}\")\n",
    "  response = requests.get(item['url'])\n",
    "  if response.status_code == 200:\n",
    "\n",
    "    # Remove marcações de template Helm\n",
    "    clean_text = re.sub(r'{{-.*?}}', '', response.text)\n",
    "    clean_text = re.sub(r'{{.*?}}', 'helm_command', clean_text)\n",
    "\n",
    "    yaml_content = list(yaml.safe_load_all(clean_text))\n",
    "    hpa_content = extract_hpa(yaml_content)\n",
    "    if hpa_content is None:\n",
    "      return\n",
    "\n",
    "    target_path = os.path.join(\"search_results\", item['repo_name'], item['file_path'])\n",
    "    target_dir = os.path.dirname(target_path)\n",
    "    os.makedirs(target_dir, exist_ok=True)\n",
    "    \n",
    "    with open(target_path, 'w') as file:\n",
    "      file.write(yaml.dump_all(hpa_content))\n",
    "  else:\n",
    "    print(f\"Loading {url} returned {response.status_code}\")\n",
    "\n",
    "\n",
    "def download_file(item):\n",
    "  if not os.path.isdir('search_results'):\n",
    "    os.mkdir('search_results')\n",
    "\n",
    "  print(f\"Downloading {item['url']}\")\n",
    "  response = requests.get(item['url'])\n",
    "  if response.status_code == 200:\n",
    "    target_path = os.path.join(\"search_results\", item['repo_name'], item['file_path'])\n",
    "    target_dir = os.path.dirname(target_path)\n",
    "    os.makedirs(target_dir, exist_ok=True)\n",
    "      \n",
    "    with open(target_path, 'w') as file:\n",
    "      file.write(response.text)\n",
    "  else:\n",
    "    print(f\"Loading {url} returned {response.status_code}\")\n",
    "    "
   ]
  },
  {
   "cell_type": "markdown",
   "metadata": {},
   "source": [
    "# Realiza a Busca"
   ]
  },
  {
   "cell_type": "code",
   "execution_count": 122,
   "metadata": {},
   "outputs": [
    {
     "name": "stdout",
     "output_type": "stream",
     "text": [
      "Encontrados 4024 itens\n",
      "Carregando página 2\n",
      "Carregando página 3\n",
      "Carregando página 4\n",
      "Carregando página 5\n",
      "Carregando página 6\n",
      "Carregando página 7\n",
      "Carregando página 8\n",
      "Carregando página 9\n",
      "Aguardando code_search.remaining 1\n",
      "Aguardando code_search.remaining 1\n",
      "Aguardando code_search.remaining 1\n",
      "Aguardando code_search.remaining 1\n",
      "Aguardando code_search.remaining 1\n",
      "Aguardando code_search.remaining 1\n",
      "Aguardando code_search.remaining 1\n",
      "Aguardando code_search.remaining 1\n",
      "Aguardando code_search.remaining 1\n",
      "Aguardando code_search.remaining 1\n",
      "Aguardando code_search.remaining 1\n",
      "Aguardando code_search.remaining 1\n",
      "Aguardando code_search.remaining 1\n",
      "Aguardando code_search.remaining 1\n",
      "Aguardando code_search.remaining 1\n",
      "Aguardando code_search.remaining 1\n",
      "Aguardando code_search.remaining 1\n",
      "Aguardando code_search.remaining 1\n",
      "Aguardando code_search.remaining 1\n",
      "Aguardando code_search.remaining 1\n",
      "Aguardando code_search.remaining 1\n",
      "Aguardando code_search.remaining 1\n",
      "Aguardando code_search.remaining 1\n",
      "Aguardando code_search.remaining 1\n",
      "Aguardando code_search.remaining 1\n",
      "Aguardando code_search.remaining 1\n",
      "Aguardando code_search.remaining 1\n",
      "Aguardando code_search.remaining 1\n",
      "Aguardando code_search.remaining 1\n",
      "Aguardando code_search.remaining 1\n",
      "Aguardando code_search.remaining 1\n",
      "Aguardando code_search.remaining 1\n",
      "Aguardando code_search.remaining 1\n",
      "Carregando página 10\n",
      "Carregando página 11\n"
     ]
    },
    {
     "data": {
      "text/plain": [
       "<HTTPError 422: 'Unprocessable Entity\\n====Error Body====\\n{\\n  \"message\": \"Cannot access beyond the first 1000 results\",\\n  \"documentation_url\": \"https://docs.github.com/rest/search/search#search-code\",\\n  \"status\": \"422\"\\n}\\n'>"
      ]
     },
     "metadata": {},
     "output_type": "display_data"
    },
    {
     "data": {
      "text/plain": [
       "'Foram carregados 1100 resultados'"
      ]
     },
     "metadata": {},
     "output_type": "display_data"
    }
   ],
   "source": [
    "result_items = []\n",
    "page = 1\n",
    "\n",
    "# Carrega a primeira página de itens da pesquisa\n",
    "search_result = github.search.code(q='\"kind: HorizontalPodAutoscaler\" language:yaml', per_page=100, page=page)\n",
    "result_items.extend(search_result['items'])\n",
    "\n",
    "# Carrega as demais páginas da pesquisa\n",
    "print(f\"Encontrados {search_result['total_count']} itens\")\n",
    "while len(result_items) < search_result['total_count']:\n",
    "  rate_remaining = github.rate_limit.get()['resources']['code_search']['remaining']\n",
    "  if rate_remaining <= 1 or search_result['incomplete_results']:\n",
    "    print(f\"Aguardando code_search.remaining {rate_remaining}\")\n",
    "    time.sleep(1)\n",
    "    continue\n",
    "  result_items.extend(search_result['items'])\n",
    "  page += 1\n",
    "  print(f\"Carregando página {page}\")\n",
    "  try:\n",
    "    search_result = github.search.code(q='\"kind: HorizontalPodAutoscaler\" language:yaml', per_page=100, page=page)\n",
    "  except HTTP422UnprocessableEntityError as e:\n",
    "    display(e)\n",
    "    break\n",
    "  \n",
    "display(f\"Foram carregados {len(result_items)} resultados\")"
   ]
  },
  {
   "cell_type": "code",
   "execution_count": 105,
   "metadata": {},
   "outputs": [
    {
     "data": {
      "text/html": [
       "<div>\n",
       "<style scoped>\n",
       "    .dataframe tbody tr th:only-of-type {\n",
       "        vertical-align: middle;\n",
       "    }\n",
       "\n",
       "    .dataframe tbody tr th {\n",
       "        vertical-align: top;\n",
       "    }\n",
       "\n",
       "    .dataframe thead th {\n",
       "        text-align: right;\n",
       "    }\n",
       "</style>\n",
       "<table border=\"1\" class=\"dataframe\">\n",
       "  <thead>\n",
       "    <tr style=\"text-align: right;\">\n",
       "      <th></th>\n",
       "      <th>repo_name</th>\n",
       "      <th>file_path</th>\n",
       "      <th>url</th>\n",
       "    </tr>\n",
       "  </thead>\n",
       "  <tbody>\n",
       "    <tr>\n",
       "      <th>0</th>\n",
       "      <td>learnk8s/spring-boot-k8s-hpa</td>\n",
       "      <td>kube/hpa.yaml</td>\n",
       "      <td>https://github.com/learnk8s/spring-boot-k8s-hp...</td>\n",
       "    </tr>\n",
       "    <tr>\n",
       "      <th>1</th>\n",
       "      <td>krestomatio/keydb-operator</td>\n",
       "      <td>watches.yaml</td>\n",
       "      <td>https://github.com/krestomatio/keydb-operator/...</td>\n",
       "    </tr>\n",
       "    <tr>\n",
       "      <th>2</th>\n",
       "      <td>zuisong/vertx-server-push</td>\n",
       "      <td>k8s.yml</td>\n",
       "      <td>https://github.com/zuisong/vertx-server-push/r...</td>\n",
       "    </tr>\n",
       "    <tr>\n",
       "      <th>3</th>\n",
       "      <td>huseyinbabal/kubernetes-node-example</td>\n",
       "      <td>k8s/hpa.yml</td>\n",
       "      <td>https://github.com/huseyinbabal/kubernetes-nod...</td>\n",
       "    </tr>\n",
       "    <tr>\n",
       "      <th>4</th>\n",
       "      <td>amitshishodia/my-mongo</td>\n",
       "      <td>hpa.yaml</td>\n",
       "      <td>https://github.com/amitshishodia/my-mongo/raw/...</td>\n",
       "    </tr>\n",
       "    <tr>\n",
       "      <th>...</th>\n",
       "      <td>...</td>\n",
       "      <td>...</td>\n",
       "      <td>...</td>\n",
       "    </tr>\n",
       "    <tr>\n",
       "      <th>1095</th>\n",
       "      <td>steblynskyi/infrastructure</td>\n",
       "      <td>environments/prod/kubernetes/services/ota/book...</td>\n",
       "      <td>https://github.com/steblynskyi/infrastructure/...</td>\n",
       "    </tr>\n",
       "    <tr>\n",
       "      <th>1096</th>\n",
       "      <td>GoogleCloudPlatform/ai-on-gke</td>\n",
       "      <td>tutorials-and-examples/genAI-LLM/deploying-mis...</td>\n",
       "      <td>https://github.com/GoogleCloudPlatform/ai-on-g...</td>\n",
       "    </tr>\n",
       "    <tr>\n",
       "      <th>1097</th>\n",
       "      <td>rommelsinkam/espresso-shop-project</td>\n",
       "      <td>.vscode-server/data/User/History/71600096/8d5I...</td>\n",
       "      <td>https://github.com/rommelsinkam/espresso-shop-...</td>\n",
       "    </tr>\n",
       "    <tr>\n",
       "      <th>1098</th>\n",
       "      <td>projeto-fiap-2023-Q1-64/projeto-fiap-iac-infra</td>\n",
       "      <td>kubernetes/pagamento-deployment.yaml</td>\n",
       "      <td>https://github.com/projeto-fiap-2023-Q1-64/pro...</td>\n",
       "    </tr>\n",
       "    <tr>\n",
       "      <th>1099</th>\n",
       "      <td>KirillShakhov/DevOps.Labs.Deploy</td>\n",
       "      <td>k8s-manifests/facade-service-deployment.yaml</td>\n",
       "      <td>https://github.com/KirillShakhov/DevOps.Labs.D...</td>\n",
       "    </tr>\n",
       "  </tbody>\n",
       "</table>\n",
       "<p>1100 rows × 3 columns</p>\n",
       "</div>"
      ],
      "text/plain": [
       "                                           repo_name  \\\n",
       "0                       learnk8s/spring-boot-k8s-hpa   \n",
       "1                         krestomatio/keydb-operator   \n",
       "2                          zuisong/vertx-server-push   \n",
       "3               huseyinbabal/kubernetes-node-example   \n",
       "4                             amitshishodia/my-mongo   \n",
       "...                                              ...   \n",
       "1095                      steblynskyi/infrastructure   \n",
       "1096                   GoogleCloudPlatform/ai-on-gke   \n",
       "1097              rommelsinkam/espresso-shop-project   \n",
       "1098  projeto-fiap-2023-Q1-64/projeto-fiap-iac-infra   \n",
       "1099                KirillShakhov/DevOps.Labs.Deploy   \n",
       "\n",
       "                                              file_path  \\\n",
       "0                                         kube/hpa.yaml   \n",
       "1                                          watches.yaml   \n",
       "2                                               k8s.yml   \n",
       "3                                           k8s/hpa.yml   \n",
       "4                                              hpa.yaml   \n",
       "...                                                 ...   \n",
       "1095  environments/prod/kubernetes/services/ota/book...   \n",
       "1096  tutorials-and-examples/genAI-LLM/deploying-mis...   \n",
       "1097  .vscode-server/data/User/History/71600096/8d5I...   \n",
       "1098               kubernetes/pagamento-deployment.yaml   \n",
       "1099       k8s-manifests/facade-service-deployment.yaml   \n",
       "\n",
       "                                                    url  \n",
       "0     https://github.com/learnk8s/spring-boot-k8s-hp...  \n",
       "1     https://github.com/krestomatio/keydb-operator/...  \n",
       "2     https://github.com/zuisong/vertx-server-push/r...  \n",
       "3     https://github.com/huseyinbabal/kubernetes-nod...  \n",
       "4     https://github.com/amitshishodia/my-mongo/raw/...  \n",
       "...                                                 ...  \n",
       "1095  https://github.com/steblynskyi/infrastructure/...  \n",
       "1096  https://github.com/GoogleCloudPlatform/ai-on-g...  \n",
       "1097  https://github.com/rommelsinkam/espresso-shop-...  \n",
       "1098  https://github.com/projeto-fiap-2023-Q1-64/pro...  \n",
       "1099  https://github.com/KirillShakhov/DevOps.Labs.D...  \n",
       "\n",
       "[1100 rows x 3 columns]"
      ]
     },
     "metadata": {},
     "output_type": "display_data"
    }
   ],
   "source": [
    "search_items = []\n",
    "for item in result_items:\n",
    "  search_items.append({\n",
    "    'repo_name': item['repository']['full_name'],\n",
    "    'file_path': item['path'],\n",
    "    'url': item['html_url'].replace('/blob/', '/raw/')\n",
    "  })\n",
    "\n",
    "items = pd.DataFrame(search_items)\n",
    "display(items)"
   ]
  },
  {
   "cell_type": "code",
   "execution_count": 184,
   "metadata": {},
   "outputs": [
    {
     "data": {
      "text/plain": [
       "856"
      ]
     },
     "execution_count": 184,
     "metadata": {},
     "output_type": "execute_result"
    }
   ],
   "source": [
    "len(items['repo_name'].unique())"
   ]
  },
  {
   "cell_type": "markdown",
   "metadata": {},
   "source": [
    "## Número de Estrelas"
   ]
  },
  {
   "cell_type": "code",
   "execution_count": 106,
   "metadata": {},
   "outputs": [],
   "source": [
    "items['repo_stars'] = items.apply(func=get_repo_stars, axis=1)"
   ]
  },
  {
   "cell_type": "code",
   "execution_count": 179,
   "metadata": {},
   "outputs": [
    {
     "name": "stdout",
     "output_type": "stream",
     "text": [
      "min:  0\n",
      "max:  29225\n",
      "mean: 132.76181818181817\n"
     ]
    },
    {
     "data": {
      "text/plain": [
       "count     1100.000000\n",
       "mean       132.761818\n",
       "std       1335.499398\n",
       "min          0.000000\n",
       "25%          0.000000\n",
       "50%          0.000000\n",
       "75%          2.000000\n",
       "max      29225.000000\n",
       "Name: repo_stars, dtype: float64"
      ]
     },
     "metadata": {},
     "output_type": "display_data"
    },
    {
     "data": {
      "text/plain": [
       "count       87.000000\n",
       "mean      1638.505747\n",
       "std       4505.606941\n",
       "min         52.000000\n",
       "25%        106.000000\n",
       "50%        171.000000\n",
       "75%        577.000000\n",
       "max      29225.000000\n",
       "Name: repo_stars, dtype: float64"
      ]
     },
     "metadata": {},
     "output_type": "display_data"
    },
    {
     "data": {
      "text/plain": [
       "count      111.000000\n",
       "mean      1294.909910\n",
       "std       4037.715566\n",
       "min         45.000000\n",
       "25%         58.000000\n",
       "50%        121.000000\n",
       "75%        318.000000\n",
       "max      29225.000000\n",
       "Name: repo_stars, dtype: float64"
      ]
     },
     "metadata": {},
     "output_type": "display_data"
    }
   ],
   "source": [
    "print(f\"min:  {items['repo_stars'].min()}\")\n",
    "print(f\"max:  {items['repo_stars'].max()}\")\n",
    "print(f\"mean: {items['repo_stars'].mean()}\")\n",
    "display(items['repo_stars'].describe())\n",
    "\n",
    "filtered_items = items[items['repo_stars'] > 50]\n",
    "display(filtered_items['repo_stars'].describe())\n",
    "\n",
    "filter_outliers_items = items[items['repo_stars'] >= items['repo_stars'].quantile(0.90)]\n",
    "display(filter_outliers_items['repo_stars'].describe())\n"
   ]
  },
  {
   "cell_type": "code",
   "execution_count": 185,
   "metadata": {},
   "outputs": [
    {
     "data": {
      "text/plain": [
       "54"
      ]
     },
     "execution_count": 185,
     "metadata": {},
     "output_type": "execute_result"
    }
   ],
   "source": [
    "len(filtered_items['repo_name'].unique())"
   ]
  },
  {
   "cell_type": "code",
   "execution_count": 181,
   "metadata": {},
   "outputs": [
    {
     "data": {
      "text/plain": [
       "Text(0.5, 1.0, 'Histograma Repo Stars > 50')"
      ]
     },
     "execution_count": 181,
     "metadata": {},
     "output_type": "execute_result"
    },
    {
     "data": {
      "image/png": "[encoded data removed]",
      "text/plain": [
       "<Figure size 1800x600 with 2 Axes>"
      ]
     },
     "metadata": {},
     "output_type": "display_data"
    }
   ],
   "source": [
    "fig, axes = plt.subplots(1, 2, figsize=(18, 6))\n",
    "bins=30\n",
    "# bins = np.concatenate((np.linspace(0, 50, 20), np.linspace(50, filter_outliers_items['repo_stars'].max(), 10)))\n",
    "\n",
    "axes[0].hist(filter_outliers_items['repo_stars'], bins=bins, edgecolor='black')\n",
    "axes[0].set_xlabel(\"Repo Stars\")\n",
    "axes[0].set_ylabel(\"Frequência\")\n",
    "axes[0].set_title(\"Histograma até Percenil 90\")\n",
    "axes[0].set_xticks(filter_outliers_items['repo_stars'].unique())\n",
    "axes[0].tick_params(axis=\"x\", rotation=45)\n",
    "axes[1].hist(filtered_items['repo_stars'], bins=bins, edgecolor='black')\n",
    "axes[1].set_xlabel(\"Repo Stars\")\n",
    "axes[1].set_ylabel(\"Frequência\")\n",
    "axes[1].set_xticks(filtered_items['repo_stars'].unique())\n",
    "axes[1].tick_params(axis=\"x\", rotation=45)\n",
    "axes[1].set_title(\"Histograma Repo Stars > 50\")"
   ]
  },
  {
   "cell_type": "code",
   "execution_count": 156,
   "metadata": {},
   "outputs": [
    {
     "data": {
      "text/html": [
       "<div>\n",
       "<style scoped>\n",
       "    .dataframe tbody tr th:only-of-type {\n",
       "        vertical-align: middle;\n",
       "    }\n",
       "\n",
       "    .dataframe tbody tr th {\n",
       "        vertical-align: top;\n",
       "    }\n",
       "\n",
       "    .dataframe thead th {\n",
       "        text-align: right;\n",
       "    }\n",
       "</style>\n",
       "<table border=\"1\" class=\"dataframe\">\n",
       "  <thead>\n",
       "    <tr style=\"text-align: right;\">\n",
       "      <th></th>\n",
       "      <th>repo_name</th>\n",
       "      <th>file_path</th>\n",
       "      <th>url</th>\n",
       "      <th>repo_stars</th>\n",
       "    </tr>\n",
       "  </thead>\n",
       "  <tbody>\n",
       "    <tr>\n",
       "      <th>701</th>\n",
       "      <td>intel/workload-services-framework</td>\n",
       "      <td>staging/deathstarbench-hotelreservation/helm_h...</td>\n",
       "      <td>https://github.com/intel/workload-services-fra...</td>\n",
       "      <td>52</td>\n",
       "    </tr>\n",
       "    <tr>\n",
       "      <th>1</th>\n",
       "      <td>krestomatio/keydb-operator</td>\n",
       "      <td>watches.yaml</td>\n",
       "      <td>https://github.com/krestomatio/keydb-operator/...</td>\n",
       "      <td>53</td>\n",
       "    </tr>\n",
       "    <tr>\n",
       "      <th>101</th>\n",
       "      <td>krestomatio/keydb-operator</td>\n",
       "      <td>watches.yaml</td>\n",
       "      <td>https://github.com/krestomatio/keydb-operator/...</td>\n",
       "      <td>53</td>\n",
       "    </tr>\n",
       "    <tr>\n",
       "      <th>513</th>\n",
       "      <td>giantswarm/starboard-exporter</td>\n",
       "      <td>helm/starboard-exporter/templates/customMetric...</td>\n",
       "      <td>https://github.com/giantswarm/starboard-export...</td>\n",
       "      <td>58</td>\n",
       "    </tr>\n",
       "    <tr>\n",
       "      <th>608</th>\n",
       "      <td>PostHog/charts-clickhouse</td>\n",
       "      <td>charts/posthog/templates/web-hpa.yaml</td>\n",
       "      <td>https://github.com/PostHog/charts-clickhouse/r...</td>\n",
       "      <td>58</td>\n",
       "    </tr>\n",
       "    <tr>\n",
       "      <th>...</th>\n",
       "      <td>...</td>\n",
       "      <td>...</td>\n",
       "      <td>...</td>\n",
       "      <td>...</td>\n",
       "    </tr>\n",
       "    <tr>\n",
       "      <th>229</th>\n",
       "      <td>bitnami/charts</td>\n",
       "      <td>bitnami/concourse/templates/worker/horizontalp...</td>\n",
       "      <td>https://github.com/bitnami/charts/raw/f29e7aa4...</td>\n",
       "      <td>9052</td>\n",
       "    </tr>\n",
       "    <tr>\n",
       "      <th>759</th>\n",
       "      <td>bitnami/charts</td>\n",
       "      <td>bitnami/spark/templates/hpa-worker.yaml</td>\n",
       "      <td>https://github.com/bitnami/charts/raw/f29e7aa4...</td>\n",
       "      <td>9052</td>\n",
       "    </tr>\n",
       "    <tr>\n",
       "      <th>758</th>\n",
       "      <td>openimsdk/open-im-server</td>\n",
       "      <td>deployments/charts/openim-rpc-msg/templates/hp...</td>\n",
       "      <td>https://github.com/openimsdk/open-im-server/ra...</td>\n",
       "      <td>14105</td>\n",
       "    </tr>\n",
       "    <tr>\n",
       "      <th>1045</th>\n",
       "      <td>Budibase/budibase</td>\n",
       "      <td>charts/budibase/templates/automation-worker-se...</td>\n",
       "      <td>https://github.com/Budibase/budibase/raw/87112...</td>\n",
       "      <td>22773</td>\n",
       "    </tr>\n",
       "    <tr>\n",
       "      <th>227</th>\n",
       "      <td>transloadit/uppy</td>\n",
       "      <td>packages/@uppy/companion/infra/kube/companion/...</td>\n",
       "      <td>https://github.com/transloadit/uppy/raw/8f97fd...</td>\n",
       "      <td>29225</td>\n",
       "    </tr>\n",
       "  </tbody>\n",
       "</table>\n",
       "<p>87 rows × 4 columns</p>\n",
       "</div>"
      ],
      "text/plain": [
       "                              repo_name  \\\n",
       "701   intel/workload-services-framework   \n",
       "1            krestomatio/keydb-operator   \n",
       "101          krestomatio/keydb-operator   \n",
       "513       giantswarm/starboard-exporter   \n",
       "608           PostHog/charts-clickhouse   \n",
       "...                                 ...   \n",
       "229                      bitnami/charts   \n",
       "759                      bitnami/charts   \n",
       "758            openimsdk/open-im-server   \n",
       "1045                  Budibase/budibase   \n",
       "227                    transloadit/uppy   \n",
       "\n",
       "                                              file_path  \\\n",
       "701   staging/deathstarbench-hotelreservation/helm_h...   \n",
       "1                                          watches.yaml   \n",
       "101                                        watches.yaml   \n",
       "513   helm/starboard-exporter/templates/customMetric...   \n",
       "608               charts/posthog/templates/web-hpa.yaml   \n",
       "...                                                 ...   \n",
       "229   bitnami/concourse/templates/worker/horizontalp...   \n",
       "759             bitnami/spark/templates/hpa-worker.yaml   \n",
       "758   deployments/charts/openim-rpc-msg/templates/hp...   \n",
       "1045  charts/budibase/templates/automation-worker-se...   \n",
       "227   packages/@uppy/companion/infra/kube/companion/...   \n",
       "\n",
       "                                                    url  repo_stars  \n",
       "701   https://github.com/intel/workload-services-fra...          52  \n",
       "1     https://github.com/krestomatio/keydb-operator/...          53  \n",
       "101   https://github.com/krestomatio/keydb-operator/...          53  \n",
       "513   https://github.com/giantswarm/starboard-export...          58  \n",
       "608   https://github.com/PostHog/charts-clickhouse/r...          58  \n",
       "...                                                 ...         ...  \n",
       "229   https://github.com/bitnami/charts/raw/f29e7aa4...        9052  \n",
       "759   https://github.com/bitnami/charts/raw/f29e7aa4...        9052  \n",
       "758   https://github.com/openimsdk/open-im-server/ra...       14105  \n",
       "1045  https://github.com/Budibase/budibase/raw/87112...       22773  \n",
       "227   https://github.com/transloadit/uppy/raw/8f97fd...       29225  \n",
       "\n",
       "[87 rows x 4 columns]"
      ]
     },
     "execution_count": 156,
     "metadata": {},
     "output_type": "execute_result"
    }
   ],
   "source": [
    "filtered_items = filtered_items.sort_values(by=['repo_stars'])\n",
    "filtered_items"
   ]
  },
  {
   "cell_type": "code",
   "execution_count": 157,
   "metadata": {},
   "outputs": [
    {
     "name": "stdout",
     "output_type": "stream",
     "text": [
      "Downloading https://github.com/intel/workload-services-framework/raw/ab4c65d0a9b50321a7ebddeb8f8099d863952688/staging/deathstarbench-hotelreservation/helm_hotelReservation/templates/search.yaml\n",
      "Downloading https://github.com/krestomatio/keydb-operator/raw/4cea4acc1f7c32eaefcb9c490bb81d42a7ceb7c4/watches.yaml\n",
      "Downloading https://github.com/krestomatio/keydb-operator/raw/4cea4acc1f7c32eaefcb9c490bb81d42a7ceb7c4/watches.yaml\n",
      "Downloading https://github.com/giantswarm/starboard-exporter/raw/ea932f4bbd0e94ad0aebc90526eff4e0c95720c8/helm/starboard-exporter/templates/customMetricsHpa.yaml\n",
      "Downloading https://github.com/PostHog/charts-clickhouse/raw/81f238b46600f20f4f06426e9f0c7f7f4a893125/charts/posthog/templates/web-hpa.yaml\n",
      "Downloading https://github.com/ScorpioBroker/ScorpioBroker/raw/cf31219e0926943f957e7992c8c03b020137ff59/KubernetesFile/dist-deployment-files/helm/scorpioBroker/templates/query-manager-hpa.yaml\n",
      "Downloading https://github.com/ScorpioBroker/ScorpioBroker/raw/cf31219e0926943f957e7992c8c03b020137ff59/KubernetesFile/dist-no-eureka-deployment-files/helm/scorpioBroker/templates/entity-manager-hpa.yaml\n",
      "Downloading https://github.com/ScorpioBroker/ScorpioBroker/raw/cf31219e0926943f957e7992c8c03b020137ff59/KubernetesFile/dist-deployment-files/helm/scorpioBroker/templates/entity-manager-hpa.yaml\n",
      "Downloading https://github.com/ScorpioBroker/ScorpioBroker/raw/cf31219e0926943f957e7992c8c03b020137ff59/KubernetesFile/dist-no-eureka-deployment-files/helm/scorpioBroker/templates/query-manager-hpa.yaml\n",
      "Downloading https://github.com/ScorpioBroker/ScorpioBroker/raw/cf31219e0926943f957e7992c8c03b020137ff59/KubernetesFile/dist-deployment-files/hpa/subscription-manager.yaml\n",
      "Downloading https://github.com/ScorpioBroker/ScorpioBroker/raw/cf31219e0926943f957e7992c8c03b020137ff59/KubernetesFile/dist-no-eureka-deployment-files/hpa/subscription-manager.yaml\n",
      "Downloading https://github.com/saiyam1814/Kubernetes-hindi-bootcamp/raw/35119dc88cdfed3f00fff53a55e0ad1becfec655/app/hpa.yaml\n",
      "Downloading https://github.com/saiyam1814/Kubernetes-hindi-bootcamp/raw/35119dc88cdfed3f00fff53a55e0ad1becfec655/app/hpa.yaml\n",
      "Downloading https://github.com/DevOpsRunbook/FastCampus/raw/c16b4478771493091c92a3ebd112fb2eb60313d8/Part6_MSA/Chapter13/Ch13_03-spring-cloud-data-flow-batch/kubernetes/helm-charts/spring-cloud-data-flow/templates/skipper/hpa.yaml\n",
      "Downloading https://github.com/DevOpsRunbook/FastCampus/raw/c16b4478771493091c92a3ebd112fb2eb60313d8/Part6_MSA/Chapter05/helm-charts/templates/skipper/hpa.yaml\n",
      "Downloading https://github.com/arisu1000/kubernetes-book-sample/raw/6be60a6155a2febff4f7bfe22f168c0fe3a2b7cb/autoscaling/autoscaling.yaml\n",
      "Downloading https://github.com/maistra/istio-operator/raw/a9b6467939143569a4e9b17a5744f3d3a8f2b7b1/resources/helm/v2.2/rls/templates/autoscale.yaml\n",
      "Downloading https://github.com/maistra/istio-operator/raw/a9b6467939143569a4e9b17a5744f3d3a8f2b7b1/resources/helm/v2.0/gateways/istio-egress/templates/autoscale.yaml\n",
      "Downloading https://github.com/PacktPublishing/Practical-Microservices-with-Dapr-and-.NET/raw/409cb1f4c3bfd435bba749d1565060983555b4ff/chapter10/Deploy/sample.microservice.reservation.yaml\n",
      "Downloading https://github.com/msfidelis/terraformando-eks/raw/b1f967150eb49b337ba24835ae35c83f003296d7/kubernetes/apps/pudim.yml\n",
      "Downloading https://github.com/redhat-openshift-ecosystem/community-operators-prod/raw/d9e9d9cefd366674cd8f405dbaf15b6e31dee03d/operators/project-quay/3.10.0-nightly.20230914/manifests/quay-operator.clusterserviceversion.yaml\n",
      "Downloading https://github.com/redhat-openshift-ecosystem/community-operators-prod/raw/d9e9d9cefd366674cd8f405dbaf15b6e31dee03d/operators/project-quay/3.10.0-nightly.20230920/manifests/quay-operator.clusterserviceversion.yaml\n",
      "Downloading https://github.com/redhat-openshift-ecosystem/community-operators-prod/raw/d9e9d9cefd366674cd8f405dbaf15b6e31dee03d/operators/project-quay/3.10.0-nightly.20231014/manifests/quay-operator.clusterserviceversion.yaml\n",
      "Downloading https://github.com/redhat-openshift-ecosystem/community-operators-prod/raw/d9e9d9cefd366674cd8f405dbaf15b6e31dee03d/operators/project-quay/3.8.11/manifests/quay-operator.clusterserviceversion.yaml\n",
      "Downloading https://github.com/redhat-openshift-ecosystem/community-operators-prod/raw/d9e9d9cefd366674cd8f405dbaf15b6e31dee03d/operators/project-quay/3.9.0/manifests/quay-operator.clusterserviceversion.yaml\n",
      "Downloading https://github.com/redhat-openshift-ecosystem/community-operators-prod/raw/d9e9d9cefd366674cd8f405dbaf15b6e31dee03d/operators/seldon-operator/1.13.1/manifests/seldon-operator.clusterserviceversion.yaml\n",
      "Downloading https://github.com/day112/go-zero-bookstore/raw/b82b66f487eb028e5cf6b464a1e924fa0bbf85c5/apirpc.yaml\n",
      "Downloading https://github.com/day112/go-zero-bookstore/raw/b82b66f487eb028e5cf6b464a1e924fa0bbf85c5/checkrpc.yaml\n",
      "Downloading https://github.com/quay/quay-operator/raw/25bc2dc1ae8eed37f41335bd3e1b08efc1e4540a/e2e/unmanage_mirror/01-assert.yaml\n",
      "Downloading https://github.com/quay/quay-operator/raw/25bc2dc1ae8eed37f41335bd3e1b08efc1e4540a/e2e/hpa/00-create-quay-registry.yaml\n",
      "Downloading https://github.com/quay/quay-operator/raw/25bc2dc1ae8eed37f41335bd3e1b08efc1e4540a/e2e/hpa/03-manage-hpa.yaml\n",
      "Downloading https://github.com/quay/quay-operator/raw/25bc2dc1ae8eed37f41335bd3e1b08efc1e4540a/e2e/ca_rotation/00-assert.yaml\n",
      "Downloading https://github.com/quay/quay-operator/raw/25bc2dc1ae8eed37f41335bd3e1b08efc1e4540a/e2e/ca_rotation/01-assert.yaml\n",
      "Downloading https://github.com/quay/quay-operator/raw/25bc2dc1ae8eed37f41335bd3e1b08efc1e4540a/e2e/hpa/02-bump-hpas.yaml\n",
      "Downloading https://github.com/unixhot/opsany-paas/raw/6eefb59733d56242947050d0c3a4a5eadcd2860d/kubernetes/helm/opsany-paas/opsany-paas-openresty/templates/hpa.yaml\n",
      "Downloading https://github.com/hepyu/k8s-app-config/raw/2ecc4219c7942f1706e25195a384b4cebb370eca/yaml/min-cluster-allinone/tekton/pipeline/release.yaml\n",
      "Downloading https://github.com/fybrik/fybrik/raw/291432d1ca684f5247f9b1902243b80833bbef97/charts/fybrik/templates/openmetadata-connector/openmetadata-connector-hpa.yaml\n",
      "Downloading https://github.com/fabiocicerchia/go-proxy-cache/raw/4f5a4d89ccd189a36dbf3fe1285354df38151ab6/kubernetes/helm/templates/hpa.yaml\n",
      "Downloading https://github.com/cortexproject/cortex-helm-chart/raw/b24a8b6da88301fa89bfdbf8db0ff1c3c7e47ec0/templates/distributor/distributor-hpa.yaml\n",
      "Downloading https://github.com/google/googlesre/raw/f804a95951b21c2ac0e4afcedc00343ee68f7566/imageserver/kubernetes/download-frontend.yaml\n",
      "Downloading https://github.com/ForgeRock/forgeops/raw/c5c970c0e5fc5cffbf105b63ad816d14fc4afe52/charts/identity-platform/templates/login-ui-hpa.yaml\n",
      "Downloading https://github.com/ForgeRock/forgeops/raw/c5c970c0e5fc5cffbf105b63ad816d14fc4afe52/charts/identity-platform/templates/am-hpa.yaml\n",
      "Downloading https://github.com/zxcvbnius/k8s-30-day-sharing/raw/86cbd18684bcb30b15f54c5dc5201957dd0b39c3/Day25/demo-hpa/helloworld-hpa.yaml\n",
      "Downloading https://github.com/Orange-OpenSource/towards5gs-helm/raw/f3cdb1caaa0824adf456dea649e4e49aa98ff99e/charts/free5gc/charts/free5gc-nrf/templates/nrf-hpa.yaml\n",
      "Downloading https://github.com/knative/operator/raw/c5e5285d33e1d4e0739a0a6b67dd1f7a303e8dce/cmd/operator/kodata/knative-eventing/1.16.2/2-eventing-core.yaml\n",
      "Downloading https://github.com/Ahoo-Wang/Wow/raw/9ca9714a648f452e4832c4d71ffb688fd604dfeb/deploy/example/hpa.yaml\n",
      "Downloading https://github.com/k8s-operatorhub/community-operators/raw/3e1682e014a3d76a35e1dbefe6d574bf45253d69/operators/project-quay/3.10.0-nightly.20230914/manifests/quay-operator.clusterserviceversion.yaml\n",
      "Downloading https://github.com/k8s-operatorhub/community-operators/raw/3e1682e014a3d76a35e1dbefe6d574bf45253d69/operators/project-quay/3.10.0-nightly.20231014/manifests/quay-operator.clusterserviceversion.yaml\n",
      "Downloading https://github.com/k8s-operatorhub/community-operators/raw/3e1682e014a3d76a35e1dbefe6d574bf45253d69/operators/project-quay/3.8.11/manifests/quay-operator.clusterserviceversion.yaml\n",
      "Downloading https://github.com/k8s-operatorhub/community-operators/raw/3e1682e014a3d76a35e1dbefe6d574bf45253d69/operators/project-quay/3.10.0-nightly.20230920/manifests/quay-operator.clusterserviceversion.yaml\n",
      "Downloading https://github.com/k8s-operatorhub/community-operators/raw/3e1682e014a3d76a35e1dbefe6d574bf45253d69/operators/project-quay/3.9.0/manifests/quay-operator.clusterserviceversion.yaml\n",
      "Downloading https://github.com/shuigedeng/taotao-cloud-project/raw/a841463b78ee9facd089279760095caf7371910d/doc/liunx-install/kubernetes/deployment.yml\n",
      "Downloading https://github.com/GoogleCloudPlatform/ai-on-gke/raw/3a393295c260574bef93ce7e67a685561b19a4a6/tutorials-and-examples/genAI-LLM/deploying-mistral-7b-instruct-L4gpus/mistral-7b.yaml\n",
      "Downloading https://github.com/jfrog/charts/raw/ce3862064443facad760e8705114d3c5416bb15f/stable/pipelines/templates/pipelines-trigger-hpa.yaml\n",
      "Downloading https://github.com/IBM/charts/raw/ed51ac85251af4c7e48120237338a65340efec3f/components/wkc-base2/charts/dataconn-engine-service-chart/templates/autoscale.yaml\n",
      "Downloading https://github.com/chronolaw/k8s_study/raw/1eac1653f622265e04f6eea7c672991263f465f1/ch4/hpa.yml\n",
      "Downloading https://github.com/chronolaw/k8s_study/raw/1eac1653f622265e04f6eea7c672991263f465f1/ch4/hpa.yml\n",
      "Downloading https://github.com/gianlucam76/k8s-cleaner/raw/e0c231899f659bc2315bcc13c37160f4a15ad6c4/internal/controller/executor/validate_aggregatedselection/deployment_with_autoscaler/cleaner.yaml\n",
      "Downloading https://github.com/gianlucam76/k8s-cleaner/raw/e0c231899f659bc2315bcc13c37160f4a15ad6c4/examples-unused-resources/deployments/deployment_with_no_autoscaler.yaml\n",
      "Downloading https://github.com/learnk8s/spring-boot-k8s-hpa/raw/64fced5d87e8e9ecaccb3b9a64989bfea0050e67/kube/hpa.yaml\n",
      "Downloading https://github.com/learnk8s/spring-boot-k8s-hpa/raw/64fced5d87e8e9ecaccb3b9a64989bfea0050e67/kube/hpa.yaml\n",
      "Downloading https://github.com/islamic-network/alquran.cloud/raw/87fd4fe05d7fdeaf3182d1c9af11fea9db75c87e/.k8s/manifest.yml\n",
      "Downloading https://github.com/HariSekhon/Kubernetes-configs/raw/2eb49c62a1b9d8975d0dcbbab0fd40948e099857/github-actions/base/github-actions-runner-hpa.yaml\n",
      "Downloading https://github.com/JanssenProject/jans/raw/168ebbe43c718dc4135a96e8be9b9236343d35c9/charts/janssen/charts/auth-server/templates/hpa.yaml\n",
      "Downloading https://github.com/magda-io/magda/raw/3c9f3c2c4e5b68d70315df0c4f063e1f47aa209f/deploy/helm/internal-charts/opensearch/templates/client-hpa.yaml\n",
      "Downloading https://github.com/TuGraph-family/tugraph-analytics/raw/3c60914995045f0c3d447d01c28b9afa332c53f9/geaflow-kubernetes-operator/helm/geaflow-kubernetes-operator/templates/hpa.yaml\n",
      "Downloading https://github.com/digitalocean/Kubernetes-Starter-Kit-Developers/raw/eeb4dd23525b60338652ff56a7885c734520dd90/07-scaling-application-workloads/assets/manifests/hpa/prometheus-adapter/prometheus-custom-metrics-hpa.yaml\n",
      "Downloading https://github.com/hasura/learn-graphql/raw/16a7868f39f4828361d8cb63edfa9c275136badd/k8s-manifest/tutorials/frontend/react-apollo-hooks/tutorial-site-es/hpa.yaml\n",
      "Downloading https://github.com/hasura/learn-graphql/raw/16a7868f39f4828361d8cb63edfa9c275136badd/k8s-manifest/tutorials/graphql/intro-graphql/tutorial-site-es/hpa.yaml\n",
      "Downloading https://github.com/chaseSpace/k8s-tutorial-cn/raw/2711af74eef7efa0a4681c7198611ba0768d0c64/hpa_nginx_behavior.yaml\n",
      "Downloading https://github.com/chaseSpace/k8s-tutorial-cn/raw/2711af74eef7efa0a4681c7198611ba0768d0c64/hpa_nginx_behavior_default.yaml\n",
      "Downloading https://github.com/GoogleCloudPlatform/cloud-builders/raw/88de3665c77e9f119e5f4bb6caa40ac0bfd088be/gke-deploy/deployer/testing/application.yaml\n",
      "Downloading https://github.com/GoogleCloudPlatform/cloud-builders/raw/88de3665c77e9f119e5f4bb6caa40ac0bfd088be/gke-deploy/deployer/testing/configs/application.yaml\n",
      "Downloading https://github.com/fonoster/routr/raw/937f7faa081ee657c3dfe2a38f6b972bbea6674a/ops/charts/connect/templates/connect/autoscaling.yaml\n",
      "Downloading https://github.com/Tencent/CodeAnalysis/raw/746a3087884a4d8aef2fd4b51e045955665596f3/helm-charts/tca/templates/analysis/server-deployment.yaml\n",
      "Downloading https://github.com/cnych/kubernetes-learning/raw/7949681dbc5403140566c96ab4070254c5676ad6/hpademo/hpa-demo.yaml\n",
      "Downloading https://github.com/instill-ai/instill-core/raw/a27d2328aca7858fd9fbeb5f62efa4c1e178c070/charts/core/templates/openfga/hpa.yml\n",
      "Downloading https://github.com/Netflix/consoleme/raw/2795a2bd553938a21c0643b37452971625ce67f5/helm/consoleme/templates/hpa.yaml\n",
      "Downloading https://github.com/fluxcd/flagger/raw/66fcea758108b6f2e7a37e51feac3d0f9d006839/artifacts/examples/appmesh-canary.yaml\n",
      "Downloading https://github.com/didi/KnowStreaming/raw/4c10b4ce9cce71951e777eaf01fcc4610b6bba19/km-dist/helm/templates/hpa.yaml\n",
      "Downloading https://github.com/labring/laf/raw/7ee61e90b162e208883d4bab18a7f895919d4234/build/charts/laf-server/templates/hpa.yaml\n",
      "Downloading https://github.com/bitnami/charts/raw/f29e7aa40d82f5ee914ca9f642743e5b1c4ce128/bitnami/dremio/templates/executor/hpa.yaml\n",
      "Downloading https://github.com/bitnami/charts/raw/f29e7aa40d82f5ee914ca9f642743e5b1c4ce128/bitnami/concourse/templates/worker/horizontalpodautoscaler.yaml\n",
      "Downloading https://github.com/bitnami/charts/raw/f29e7aa40d82f5ee914ca9f642743e5b1c4ce128/bitnami/spark/templates/hpa-worker.yaml\n",
      "Downloading https://github.com/openimsdk/open-im-server/raw/bfc4684a36bd80f8faeceb33d3d01525a394e38c/deployments/charts/openim-rpc-msg/templates/hpa.yaml\n",
      "Downloading https://github.com/Budibase/budibase/raw/871127b1472348a103886d341d667439155638c1/charts/budibase/templates/automation-worker-service-hpa.yaml\n",
      "Downloading https://github.com/transloadit/uppy/raw/8f97fd61fada0dee6fe32b07516568f8c3d39060/packages/@uppy/companion/infra/kube/companion/companion-kube.yaml\n"
     ]
    },
    {
     "data": {
      "text/plain": [
       "701     None\n",
       "1       None\n",
       "101     None\n",
       "513     None\n",
       "608     None\n",
       "        ... \n",
       "229     None\n",
       "759     None\n",
       "758     None\n",
       "1045    None\n",
       "227     None\n",
       "Length: 87, dtype: object"
      ]
     },
     "execution_count": 157,
     "metadata": {},
     "output_type": "execute_result"
    }
   ],
   "source": [
    "filtered_items.apply(download_file, axis=1)"
   ]
  }
 ],
 "metadata": {
  "kernelspec": {
   "display_name": ".venv",
   "language": "python",
   "name": "python3"
  },
  "language_info": {
   "codemirror_mode": {
    "name": "ipython",
    "version": 3
   },
   "file_extension": ".py",
   "mimetype": "text/x-python",
   "name": "python",
   "nbconvert_exporter": "python",
   "pygments_lexer": "ipython3",
   "version": "3.12.7"
  }
 },
 "nbformat": 4,
 "nbformat_minor": 2
}
